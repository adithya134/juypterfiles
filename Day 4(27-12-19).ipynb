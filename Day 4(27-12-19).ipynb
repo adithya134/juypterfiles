{
 "cells": [
  {
   "cell_type": "code",
   "execution_count": 8,
   "metadata": {},
   "outputs": [
    {
     "name": "stdout",
     "output_type": "stream",
     "text": [
      "Enter 3 subject marks:95 99 98\n",
      "3 subject marks are: 95 99 98\n",
      "292\n",
      "Avg marks are: 97.33333333333333\n",
      "A\n"
     ]
    }
   ],
   "source": [
    "a,b,c = map(int,input(\"Enter 3 subject marks:\").split())\n",
    "print(\"3 subject marks are:\",a,b,c)\n",
    "print(a+b+c)\n",
    "if a>=30 and b>=30 and c>=30:\n",
    "    avg=(a+b+c)/3\n",
    "    print(\"Avg marks are:\",avg)\n",
    "    if avg>75:\n",
    "        print(\"A\")\n",
    "    elif avg>60 and avg<75:\n",
    "         print(\"B\")\n",
    "    elif avg>45 and avg<60:\n",
    "        print(\"C\")\n",
    "    elif avg>30 and avg<45:\n",
    "         print(\"D\")\n",
    "    else:\n",
    "        print(\"Fail\")\n",
    "else:\n",
    "     print(\"Fail\")"
   ]
  },
  {
   "cell_type": "code",
   "execution_count": 1,
   "metadata": {},
   "outputs": [
    {
     "name": "stdout",
     "output_type": "stream",
     "text": [
      "Enter a value:10\n",
      "1 2 3 4 5 6 7 8 9 10 "
     ]
    }
   ],
   "source": [
    "#Loops\n",
    "#While and for loops\n",
    "#print 1-n values\n",
    "n = int(input(\"Enter a value:\"))\n",
    "i = 1\n",
    "while i<=n:\n",
    "     print(i,end=\" \")\n",
    "     i += 1"
   ]
  },
  {
   "cell_type": "code",
   "execution_count": 3,
   "metadata": {},
   "outputs": [
    {
     "name": "stdout",
     "output_type": "stream",
     "text": [
      "12569758\n",
      "8\n",
      "8\n"
     ]
    }
   ],
   "source": [
    "#Accept a number as an input and print the no.of digits on the screen\n",
    "# input: 2345612\n",
    "# output:7\n",
    "\n",
    "n = int(input())\n",
    "c = 0\n",
    "print(len(str(n)))\n",
    "while n!=0:\n",
    "     c +=1\n",
    "     n=n//10\n",
    "print(c)"
   ]
  },
  {
   "cell_type": "code",
   "execution_count": null,
   "metadata": {},
   "outputs": [],
   "source": []
  }
 ],
 "metadata": {
  "kernelspec": {
   "display_name": "Python 3",
   "language": "python",
   "name": "python3"
  },
  "language_info": {
   "codemirror_mode": {
    "name": "ipython",
    "version": 3
   },
   "file_extension": ".py",
   "mimetype": "text/x-python",
   "name": "python",
   "nbconvert_exporter": "python",
   "pygments_lexer": "ipython3",
   "version": "3.7.4"
  }
 },
 "nbformat": 4,
 "nbformat_minor": 2
}
